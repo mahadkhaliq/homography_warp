{
 "cells": [
  {
   "cell_type": "code",
   "execution_count": 1,
   "id": "53465fc9",
   "metadata": {},
   "outputs": [],
   "source": [
    "import cv2\n",
    "import numpy as np"
   ]
  },
  {
   "cell_type": "code",
   "execution_count": 2,
   "id": "f2dcfaa2",
   "metadata": {},
   "outputs": [],
   "source": [
    "img_path = r'book1.jpeg'\n",
    "img2_path = r'book2.jpeg'"
   ]
  },
  {
   "cell_type": "code",
   "execution_count": 3,
   "id": "b45da2bf",
   "metadata": {},
   "outputs": [
    {
     "name": "stdout",
     "output_type": "stream",
     "text": [
      "(1024, 768, 3)\n",
      "(1024, 768, 3)\n"
     ]
    }
   ],
   "source": [
    "# reading the image\n",
    "img = cv2.imread(img_path, 1) \n",
    "print(img.shape) \n",
    "img2 = cv2.imread(img2_path,1)\n",
    "print(img2.shape)"
   ]
  },
  {
   "cell_type": "code",
   "execution_count": 4,
   "id": "7e16917a",
   "metadata": {},
   "outputs": [],
   "source": [
    "pt = np.empty([4, 2], dtype = int)\n",
    "cls = 0\n",
    "pt3 = pt = np.empty([4, 2], dtype = int)\n",
    "clt = 0\n",
    "im = 0"
   ]
  },
  {
   "cell_type": "code",
   "execution_count": 5,
   "id": "9de6b06f",
   "metadata": {},
   "outputs": [
    {
     "name": "stdout",
     "output_type": "stream",
     "text": [
      "(4, 2)\n",
      "(4, 2)\n"
     ]
    }
   ],
   "source": [
    "pt = np.empty([4, 2], dtype = np.uint)\n",
    "cls = 0\n",
    "pt3 = pt = np.empty([4, 2], dtype = np.uint)\n",
    "clt = 0\n",
    "im = 0\n",
    "print(pt3.shape)\n",
    "print(pt.shape)\n",
    "cv2.destroyAllWindows()"
   ]
  },
  {
   "cell_type": "code",
   "execution_count": 6,
   "id": "ac1162a8",
   "metadata": {},
   "outputs": [
    {
     "name": "stdout",
     "output_type": "stream",
     "text": [
      "limit\n",
      "128   462\n",
      "327   256\n",
      "502   759\n",
      "691   518\n",
      "limit\n",
      "119   210\n",
      "569   200\n",
      "133   867\n",
      "568   866\n",
      "[[128. 462.]\n",
      " [327. 256.]\n",
      " [502. 759.]\n",
      " [691. 518.]] [[119. 210.]\n",
      " [569. 200.]\n",
      " [133. 867.]\n",
      " [568. 866.]]\n"
     ]
    }
   ],
   "source": [
    "pt_a = np.array([[0,0]])\n",
    "pt_a.shape\n",
    "pt_b = np.array([[0,0]])\n",
    "pt_b.shape\n",
    "\n",
    "\n",
    "cl = 0\n",
    "cr = 0\n",
    "\n",
    "# importing the module\n",
    "import cv2\n",
    "  \n",
    "# function to display the coordinates of\n",
    "# of the points clicked on the image\n",
    "def click_event(event, x, y, flags, params):\n",
    "    global pt_a\n",
    "    global pt_b\n",
    "    global cl\n",
    "    global cr\n",
    "    \n",
    " \n",
    "    # checking for left mouse clicks\n",
    "    if (event == cv2.EVENT_LBUTTONDOWN) and (cl<4):\n",
    "        pt_a = np.append(pt_a,[[x,y]],axis=0)\n",
    "        cl+=1\n",
    "        # displaying the coordinates\n",
    "        # on the Shell\n",
    "        print(x, ' ', y)\n",
    " \n",
    "        # displaying the coordinates\n",
    "        # on the image window\n",
    "        font = cv2.FONT_HERSHEY_SIMPLEX\n",
    "        cv2.putText(img, str(x) + ',' +\n",
    "                    str(y), (x,y), font,\n",
    "                    1, (255, 0, 0), 2)\n",
    "        cv2.imshow('image', img)\n",
    "        \n",
    "        \n",
    " \n",
    "    # checking for right mouse clicks    \n",
    "    if event==cv2.EVENT_RBUTTONDOWN and (cr<4):\n",
    "        pt_b = np.append(pt_b,[[x,y]],axis=0)\n",
    "        cr+=1\n",
    " \n",
    "        # displaying the coordinates\n",
    "        # on the Shell\n",
    "        print(x, ' ', y)\n",
    " \n",
    "        # displaying the coordinates\n",
    "        # on the image window\n",
    "        font = cv2.FONT_HERSHEY_SIMPLEX\n",
    "        cv2.putText(img2, str(x) + ',' +\n",
    "                    str(y), (x,y), font,\n",
    "                    1, (255, 0, 0), 2)\n",
    "        cv2.imshow('image2', img2)\n",
    "    #print(c)\n",
    " \n",
    "# driver function\n",
    "if __name__==\"__main__\":\n",
    " \n",
    "    # reading the image\n",
    "    img = cv2.imread(img_path, 1)\n",
    "    img2 = cv2.imread(img2_path,1)\n",
    " \n",
    "    # displaying the image\n",
    "    \n",
    " \n",
    "    # setting mouse handler for the image\n",
    "    # and calling the click_event() function\n",
    "    if cl < 4:\n",
    "        cv2.imshow('image', img)\n",
    "        print('limit')\n",
    "        cv2.setMouseCallback('image', click_event)\n",
    "    # wait for a key to be pressed to exit\n",
    "    cv2.waitKey(0)\n",
    "    \n",
    "    if cl>= 4:\n",
    "        cv2.imshow('image2', img2)\n",
    "        print('limit')\n",
    "        cv2.setMouseCallback('image2', click_event)\n",
    "    # wait for a key to be pressed to exit\n",
    "    cv2.waitKey(0)\n",
    " \n",
    "    # close the window\n",
    "    cv2.destroyAllWindows()\n",
    "    \n",
    "    \n",
    "    for x in range(1,5):\n",
    "        cv2.circle(img, (pt_a[x][0], pt_a[x][1]),5, (0,0,255),cv2.FILLED )\n",
    "        cv2.circle(img2, (pt_b[x][0], pt_b[x][1]),5, (0,0,255),cv2.FILLED )\n",
    "    cv2.imshow('image', img)\n",
    "    cv2.imshow('image2', img2)\n",
    "    \n",
    "    cv2.waitKey(0)\n",
    "    #cv2.destroyAllWindows()\n",
    "    \n",
    "    \n",
    "    width, height = 800,540\n",
    "    pta = pt_a.astype(np.float32)\n",
    "    pta = pta[1:][:]\n",
    "\n",
    "    ptb = pt_b.astype(np.float32)\n",
    "    ptb = ptb[1:][:]\n",
    "    \n",
    "    print(pta, ptb)\n",
    "\n",
    "    #out = cv2.getPerspectiveTransform(pta,ptb)\n",
    "    \n",
    "    img = cv2.imread(img_path, 1)\n",
    "      # Calculate Homography\n",
    "    h, status = cv2.findHomography(pta, ptb)\n",
    "    # Warp source image to destination based on homography\n",
    "    im_out = cv2.warpPerspective(img, h, (width+400,height+400))\n",
    "    \n",
    "    \n",
    "    #mat = cv2.warpPerspective(img, out, (width-200, height-200))\n",
    "    cv2.imshow('out', im_out)\n",
    "    cv2.waitKey(0)\n",
    "    cv2.destroyAllWindows()"
   ]
  },
  {
   "cell_type": "code",
   "execution_count": null,
   "id": "6ac6c32d",
   "metadata": {},
   "outputs": [],
   "source": []
  }
 ],
 "metadata": {
  "kernelspec": {
   "display_name": "Python 3 (ipykernel)",
   "language": "python",
   "name": "python3"
  },
  "language_info": {
   "codemirror_mode": {
    "name": "ipython",
    "version": 3
   },
   "file_extension": ".py",
   "mimetype": "text/x-python",
   "name": "python",
   "nbconvert_exporter": "python",
   "pygments_lexer": "ipython3",
   "version": "3.10.6"
  }
 },
 "nbformat": 4,
 "nbformat_minor": 5
}
